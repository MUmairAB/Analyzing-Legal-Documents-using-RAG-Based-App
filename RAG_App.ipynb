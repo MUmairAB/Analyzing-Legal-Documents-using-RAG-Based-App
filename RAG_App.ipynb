{
 "cells": [
  {
   "cell_type": "markdown",
   "id": "21baec67",
   "metadata": {},
   "source": [
    "# RAG-Based App For Analyzing Legal Documents"
   ]
  },
  {
   "cell_type": "markdown",
   "id": "3e51f884",
   "metadata": {},
   "source": [
    "This notebook creates a Retrieval Augmented Generation (RAG)application for analyzing the legal documents using **Pinecone**, **OpenAI** and **LangChain**. Through this RAG implementation, we can use ChatGPT to analyze out proprietary data.\n",
    "\n",
    "The PDF document containing the excerpts of the deposition is placed in the **Documents** directory. We use the **PyPDFLoader** API from **LangChain** to read the document. Then, we split the large document into smaller chunks.\n",
    "\n",
    "In the next step, we create the embedding vectors using **text-embedding-ada-002** model from **OpenAI** using the **OpenAIEmbeddings** high-level API. Then, we upsert / save these embeddings in the **Pincecone** vector database.\n",
    "\n",
    "The subsequent step involves, we find all the instances of admissions and contradictions. Firstly, we retrieve the relevant embeddings of all the occurances of admissions and contradictions separately, from the Pincecone database based on the two distinct custom prompts. Then, we use a **Retrieval Chain** to find the exact instances of admissions and contradictions using ChatGPT. Finally, we store these instances of admissions and contradictions as **CSV** files in the **Admissions** and **Contradictions** directories, respectively."
   ]
  },
  {
   "cell_type": "markdown",
   "id": "1de744a5",
   "metadata": {},
   "source": [
    "## Set environment variables and keys\n",
    "\n",
    "Let's start by setting up the API keys for **OpenAI** and **Pinecone** as environment variables."
   ]
  },
  {
   "cell_type": "code",
   "execution_count": 1,
   "id": "adf050d8",
   "metadata": {},
   "outputs": [],
   "source": [
    "import os\n",
    "from dotenv import load_dotenv\n",
    "\n",
    "#Load the .env file\n",
    "load_dotenv(dotenv_path='.env')\n",
    "\n",
    "#Set the OpenAI and Pinecone API keys as environment variables.\n",
    "PINECONE_API_KEY = os.environ.get('PINECONE_API_KEY')\n",
    "OPENAI_API_KEY = os.environ.get('OPENAI_API_KEY')"
   ]
  },
  {
   "cell_type": "markdown",
   "id": "00a8caea",
   "metadata": {},
   "source": [
    "## Manipulate the PDF file\n",
    "\n",
    "In order to analyze the legal documents, place the PDF documents in the **Documents** sub-directory. We'll read the document, and split into smaller chunks."
   ]
  },
  {
   "cell_type": "code",
   "execution_count": 2,
   "id": "9ead1170",
   "metadata": {},
   "outputs": [],
   "source": [
    "from langchain.document_loaders import PyPDFLoader"
   ]
  },
  {
   "cell_type": "code",
   "execution_count": 3,
   "id": "d383a0b8",
   "metadata": {},
   "outputs": [],
   "source": [
    "#Get the list of PDF files present in the \"Documents\" directory\n",
    "import glob\n",
    "path_list = glob.glob(\"Documents/*.PDF\")"
   ]
  },
  {
   "cell_type": "code",
   "execution_count": 4,
   "id": "39ebf8d1",
   "metadata": {},
   "outputs": [
    {
     "data": {
      "text/plain": [
       "<langchain_community.document_loaders.pdf.PyPDFLoader at 0x28fb1811be0>"
      ]
     },
     "execution_count": 4,
     "metadata": {},
     "output_type": "execute_result"
    }
   ],
   "source": [
    "#Create the PyPDFLoader object\n",
    "# It can be scaled up in the future, but for now, we'll deal with just one document\n",
    "loader = PyPDFLoader(file_path=path_list[0])\n",
    "\n",
    "#Check that the langchain PyPDFLoader object has been created\n",
    "loader"
   ]
  },
  {
   "cell_type": "code",
   "execution_count": 5,
   "id": "19005d34",
   "metadata": {},
   "outputs": [],
   "source": [
    "#Load the file contents\n",
    "doc = loader.load()"
   ]
  },
  {
   "cell_type": "code",
   "execution_count": 6,
   "id": "190a4a95",
   "metadata": {},
   "outputs": [
    {
     "data": {
      "text/plain": [
       "75"
      ]
     },
     "execution_count": 6,
     "metadata": {},
     "output_type": "execute_result"
    }
   ],
   "source": [
    "#Check the length of document\n",
    "len(doc)"
   ]
  },
  {
   "cell_type": "markdown",
   "id": "04f762a9",
   "metadata": {},
   "source": [
    "Since our document is quite large, we need to split it into smaller chunks so that we can work with the **4K** token limit of **gpt-3.5-turbo-instruct** model. We can opt for **GPT-4** or **GPT-4o**, but it will only increase our cost. Nonetheless, at production stage, we might use higher-end GPTs."
   ]
  },
  {
   "cell_type": "code",
   "execution_count": 7,
   "id": "ed01e04d",
   "metadata": {},
   "outputs": [],
   "source": [
    "#Instantiate the RecursiveCharacterTextSplitter API\n",
    "from langchain_text_splitters import RecursiveCharacterTextSplitter\n",
    "\n",
    "text_splitter = RecursiveCharacterTextSplitter(\n",
    "    \n",
    "    chunk_size = 2000,\n",
    "    chunk_overlap  = 200, #Set the overlap of chunks for better results\n",
    ")"
   ]
  },
  {
   "cell_type": "code",
   "execution_count": 8,
   "id": "e1be2d8c",
   "metadata": {},
   "outputs": [],
   "source": [
    "#Split the read document (langchain PyPDFLoader object)\n",
    "doc_chunks = text_splitter.split_documents(doc)"
   ]
  },
  {
   "cell_type": "code",
   "execution_count": 9,
   "id": "f85d4026",
   "metadata": {},
   "outputs": [
    {
     "data": {
      "text/plain": [
       "75"
      ]
     },
     "execution_count": 9,
     "metadata": {},
     "output_type": "execute_result"
    }
   ],
   "source": [
    "#Check the length of the chunks\n",
    "len(doc_chunks)"
   ]
  },
  {
   "cell_type": "code",
   "execution_count": 10,
   "id": "346045e2",
   "metadata": {},
   "outputs": [
    {
     "data": {
      "text/plain": [
       "'1 I N D E X \\n2 WITNESS \\n3 JOSEPH NADEAU \\n4 \\n5 \\n6 \\n7 \\n8 \\n9 \\n10 \\n11 \\n12 \\n13 \\n14 \\n15 \\n16 \\n17 \\n18 \\n19 \\n20 \\n21 \\n22 \\n23 \\n24 \\n25 EXAMINATION BY MR. PIROZZOLO \\nEXAMINATION BY MS. BARONI \\nEXAMINATION BY MR. BRYAN \\nEXAMINATION BY MR. PIROZZOLO \\nVivian Dafoulas & Associates \\n(401) 885-0992 148 \\nPAGE \\n150 \\n199 \\n203 \\n216 \\n99e5b696-09ac-4d72-826c-c2c83d416066 \\nCDALEDEP003543'"
      ]
     },
     "execution_count": 10,
     "metadata": {},
     "output_type": "execute_result"
    }
   ],
   "source": [
    "#Let's view a page of the document\n",
    "doc_chunks[2].page_content"
   ]
  },
  {
   "cell_type": "markdown",
   "id": "90b58894",
   "metadata": {},
   "source": [
    "**Since we also need to specify the page number in our answer, we'll have to append the page number at the end of each chunk.**"
   ]
  },
  {
   "cell_type": "code",
   "execution_count": 11,
   "id": "0564f619",
   "metadata": {},
   "outputs": [],
   "source": [
    "#Add the page number\n",
    "for i in range(len(doc_chunks)):\n",
    "    doc_chunks[i].page_content = doc_chunks[i].page_content + f\"\\n\\npage: \" + str(doc_chunks[i].metadata[\"page\"] + 146)"
   ]
  },
  {
   "cell_type": "code",
   "execution_count": 12,
   "id": "80859221",
   "metadata": {},
   "outputs": [
    {
     "data": {
      "text/plain": [
       "'1 I N D E X \\n2 WITNESS \\n3 JOSEPH NADEAU \\n4 \\n5 \\n6 \\n7 \\n8 \\n9 \\n10 \\n11 \\n12 \\n13 \\n14 \\n15 \\n16 \\n17 \\n18 \\n19 \\n20 \\n21 \\n22 \\n23 \\n24 \\n25 EXAMINATION BY MR. PIROZZOLO \\nEXAMINATION BY MS. BARONI \\nEXAMINATION BY MR. BRYAN \\nEXAMINATION BY MR. PIROZZOLO \\nVivian Dafoulas & Associates \\n(401) 885-0992 148 \\nPAGE \\n150 \\n199 \\n203 \\n216 \\n99e5b696-09ac-4d72-826c-c2c83d416066 \\nCDALEDEP003543\\n\\npage: 148'"
      ]
     },
     "execution_count": 12,
     "metadata": {},
     "output_type": "execute_result"
    }
   ],
   "source": [
    "#Let's view the added page number at the end of the document\n",
    "doc_chunks[2].page_content"
   ]
  },
  {
   "cell_type": "code",
   "execution_count": 13,
   "id": "718426c5",
   "metadata": {},
   "outputs": [
    {
     "data": {
      "text/plain": [
       "langchain_core.documents.base.Document"
      ]
     },
     "execution_count": 13,
     "metadata": {},
     "output_type": "execute_result"
    }
   ],
   "source": [
    "type(doc_chunks[0])"
   ]
  },
  {
   "cell_type": "markdown",
   "id": "36b6a892",
   "metadata": {},
   "source": [
    "## Pinecone\n",
    "\n",
    "In this section, we'll create the embedding vectors for the document chunks and store them in **Pinecone** database."
   ]
  },
  {
   "cell_type": "code",
   "execution_count": 14,
   "id": "bc5ca311",
   "metadata": {},
   "outputs": [],
   "source": [
    "from langchain_pinecone import PineconeVectorStore #High-level API from langchain\n",
    "from pinecone import Pinecone, ServerlessSpec"
   ]
  },
  {
   "cell_type": "code",
   "execution_count": 15,
   "id": "bea8d703",
   "metadata": {},
   "outputs": [],
   "source": [
    "#Initialize the client connection to Pinecone\n",
    "pc = Pinecone(api_key=PINECONE_API_KEY)"
   ]
  },
  {
   "cell_type": "code",
   "execution_count": 16,
   "id": "ead8b46e",
   "metadata": {},
   "outputs": [],
   "source": [
    "#Store the relevant index in a variable\n",
    "index_name = \"legal-index\""
   ]
  },
  {
   "cell_type": "code",
   "execution_count": 17,
   "id": "5744aee9",
   "metadata": {},
   "outputs": [
    {
     "name": "stdout",
     "output_type": "stream",
     "text": [
      "legal-index exists in the Pinecone, we may proceed!\n"
     ]
    }
   ],
   "source": [
    "#Check if our index already exists in the Pincecone\n",
    "\n",
    "if index_name not in pc.list_indexes().names():\n",
    "    print(\"Index does not exist: \", index_name)\n",
    "else:\n",
    "    print(index_name, \"exists in the Pinecone, we may proceed!\")"
   ]
  },
  {
   "cell_type": "code",
   "execution_count": 17,
   "id": "3f86c932",
   "metadata": {},
   "outputs": [
    {
     "data": {
      "text/plain": [
       "\"\\nimport time\\n\\n# check for and delete index if already exists  \\nindex_name = 'prod-index'  \\nif index_name in pc.list_indexes().names():  \\n    pc.delete_index(index_name)  \\n# create a new index  \\npc.create_index(\\n    index_name,\\n    dimension=1536,  # dimensionality of text-embedding-ada-002\\n    metric='dotproduct',\\n)  \\n# wait for index to be initialized  \\nwhile not pc.describe_index(index_name).status['ready']:  \\n    time.sleep(1)\\n\""
      ]
     },
     "execution_count": 17,
     "metadata": {},
     "output_type": "execute_result"
    }
   ],
   "source": [
    "\"\"\"\n",
    "import time\n",
    "\n",
    "# check for and delete index if already exists  \n",
    "index_name = 'prod-index'  \n",
    "if index_name in pc.list_indexes().names():  \n",
    "    pc.delete_index(index_name)  \n",
    "# create a new index  \n",
    "pc.create_index(\n",
    "    index_name,\n",
    "    dimension=1536,  # dimensionality of text-embedding-ada-002\n",
    "    metric='dotproduct',\n",
    ")  \n",
    "# wait for index to be initialized  \n",
    "while not pc.describe_index(index_name).status['ready']:  \n",
    "    time.sleep(1)\n",
    "\"\"\""
   ]
  },
  {
   "cell_type": "code",
   "execution_count": 18,
   "id": "abfb902e",
   "metadata": {},
   "outputs": [
    {
     "data": {
      "text/plain": [
       "{'dimension': 1536,\n",
       " 'index_fullness': 0.0,\n",
       " 'namespaces': {'doc1': {'vector_count': 75}},\n",
       " 'total_vector_count': 75}"
      ]
     },
     "execution_count": 18,
     "metadata": {},
     "output_type": "execute_result"
    }
   ],
   "source": [
    "#Check the index stats\n",
    "index = pc.Index(index_name)  \n",
    "index.describe_index_stats()"
   ]
  },
  {
   "cell_type": "markdown",
   "id": "f1edda15",
   "metadata": {},
   "source": [
    "**total_vector_count** tells us whether out index has any vectors stored already or not."
   ]
  },
  {
   "cell_type": "code",
   "execution_count": 19,
   "id": "a032b14f",
   "metadata": {},
   "outputs": [],
   "source": [
    "#Instantiate the OpenAI Embeddings\n",
    "from langchain_openai import OpenAIEmbeddings\n",
    "\n",
    "embeddings = OpenAIEmbeddings(openai_api_key=OPENAI_API_KEY)"
   ]
  },
  {
   "cell_type": "code",
   "execution_count": 20,
   "id": "91553e98",
   "metadata": {},
   "outputs": [],
   "source": [
    "#Create the embeddings for each chunk of the document and store it in the Pinecone index\n",
    "# at the specified namespace \"doc2\"\n",
    "vectorstore_from_docs = PineconeVectorStore.from_documents(\n",
    "        doc_chunks,\n",
    "        index_name=index_name,\n",
    "        embedding=embeddings,\n",
    "        namespace=\"doc2\"\n",
    "    )"
   ]
  },
  {
   "cell_type": "markdown",
   "id": "4135f1e8",
   "metadata": {},
   "source": [
    "## Retrieval\n",
    "\n",
    "Let's create a retrieval to pull-up the relevant data from the **Pinecone** for witness' admissions and contradictions using custom prompts."
   ]
  },
  {
   "cell_type": "code",
   "execution_count": 21,
   "id": "7496ace4",
   "metadata": {},
   "outputs": [],
   "source": [
    "admissions_prompt = \"\"\"\n",
    "You are a legal expert analyzing a witness deposition. Your task is to identify all instances of \"admissions\" in the text. For each instance, provide the line number(s) and explain why it is considered an \"admission\".\n",
    "\n",
    "Definitions:\n",
    "\"Admissions\": Statements where the witness acknowledges or agrees to a fact, confirms involvement, or accepts responsibility. Examples include phrases like \"I admit\", \"I agree\", \"Yes, that's true\", \"I acknowledge that\", \"I suppose so.\", \"I guess that's right.\", \"You could say that.\", \"I think so.\", \"To the best of my knowledge...\", \"I recognize this document.\", \"I received the email.\", \"I attended the meeting.\" etc.\n",
    "\n",
    "Please analyze the following deposition text and identify any instances of admissions. At the start of each line, the line number is given, and at the end of the page, a page number is also given as \"page: \". \n",
    "\n",
    "Provide the output in the following Python dictionary format. Please make sure that Python dictionary is well structured.:\n",
    "\n",
    "{\"admissions\": [ {\"topic\": \"Brief title of admission\",\"content\": \"Content of the admission\",\"reference\": \"line x, page y\",\"reason\": \"Explanation of why this instance is considered an admission\"},...]}\n",
    "\"\"\""
   ]
  },
  {
   "cell_type": "code",
   "execution_count": 40,
   "id": "9092ea42",
   "metadata": {},
   "outputs": [],
   "source": [
    "contradictions_prompt = \"\"\"\n",
    "You are a legal expert analyzing a witness deposition. Your task is to identify instances of \"contradictions\" in the text. For each instance, provide the line number(s) and explain why it is considered a \"contradiction\".\n",
    "\n",
    "Definitions:\n",
    "\"Contradictions\": Statements where the witness's current statement conflicts with a previous statement or established fact. Examples include changing answers, denying previous acknowledgments, or providing conflicting information.\n",
    "\n",
    "Please analyze the following deposition text and identify any instances of contradictions. At the start of each line, the line number is given, and at the end of the page, a page number is also given as \"page: \". \n",
    "\n",
    "Provide the output in the following dictionary format. Please make sure that the dictionary is well structured.:\n",
    "\n",
    "{\"contradictions\": [ {\"topic\": \"Brief title of contradiction\",\"assertion_content\": \"Content of the initial assertion\",\"assertion_reference\": \"line x, page y\",\"contradiction_content\": \"Content of the contradictory statement\",\"contradiction_reference\": \"line x, page y\",\"reason\": \"Explanation of why this instance is considered a contradiction\"},...]}\n",
    "\"\"\"\n"
   ]
  },
  {
   "cell_type": "code",
   "execution_count": 23,
   "id": "9ff9aafc",
   "metadata": {},
   "outputs": [
    {
     "data": {
      "text/plain": [
       "[Document(page_content='1 deposition of December 17, 2002? \\n2 A. (Witness complying.) \\n3 Q. May I ask you to go to Page 34 and read \\n4 Lines 1 through 10 to yourself? \\n5 (Witness reading document.) \\n6 Q. Do you recall being asked --\\n7 A. Yes. \\n8 Q. --\"did you see the cutout?\" Do you \\n9 remember that? \\n10 A. Yes. \\n11 Q. And was the cutout something you said \\n12 was at the end of one of the walls? \\n13 A. Yes. \\n14 Q. And do you remember answering: \"You \\n15 know, I probably did. I just can\\'t remember. I \\n16 couldn\\'t say for a fact. It\\'s an assumption.\" Do \\n17 you remember giving that testimony? \\n18 A. Yes. \\n19 Q. So you recall testifying in 2002 that it \\n20 was an assumption that there was a cutout? \\n21 MR. BRYAN: Objection. Leading. \\n22 A. Yeah, I remember saying that but the \\n23 more I think about it now, I do remember in fact \\n24 \\n25 it went out. I saw it go out. \\nQ. It could have gone into a sewer? \\nVivian Dafoulas & Associates \\n(401) 885-0992 192 \\n99e5b696-09ac-4d72-826c-c2c83d416066 \\nCDALEDEP003587\\n\\npage: 192', metadata={'page': 46.0, 'source': 'Documents\\\\554657.pdf'}),\n",
       " Document(page_content=\"1 that number for the court reporter. \\n2 A. On Page 28 that number is \\n3 E-000002.000598. \\n4 MR. BRYAN: Thank you. \\n5 MR. PIROZZOLO: Let me see that, sir, \\n6 make sure we have the right one. That's not it. \\n7 MR. HENNINGER: Off the record for a \\n8 moment. This is different. \\n9 (Off-the-record discussion.) \\n10 BY MR. PIROZZOLO: \\n11 Q. Mr. Nadeau, I'd like to ask you to look \\n12 at Exhibit 4. The page with the Bates number \\n13 E-000002.000602 and I'll ask you to look at Lines \\n14 5 --\\n15 A. I haven't found it yet. \\n16 Q. --through 16. No, I have it in my \\n17 hand. \\n18 A. Okay. \\n19 Q. 5 through 16 on the page I just handed \\n20 to you. \\n21 (Witness reading document.) \\n22 Q. Have you read that to yourself? \\n23 A. Not yet. \\n24 MR. PIROZZOLO: Let me know when you're \\n25 finished reading that. \\nVivian Dafoulas & Associates \\n(401) 885-0992 194 \\n99e5b696-09ac-4d72-826c-c2c83d416066 \\nCDALEDEP003589\\n\\npage: 194\", metadata={'page': 48.0, 'source': 'Documents\\\\554657.pdf'}),\n",
       " Document(page_content=\"1 I'm sorry, wrong page --Page 29 of that \\n2 testimony, Lines 11 through 24. I'd like to ask \\n3 you to read those lines to yourself and let me \\n4 know when you're done. Thank you. \\n5 (Witness reading document.) \\n6 A. Done. \\n7 Q. Okay. Does reading through Lines 11 \\n8 through 24 on Page 29 of your Home Insurance \\n9 deposition dated December 17th, 2002 help to \\n10 refresh your recollection as to when you worked at \\n11 Metro-Atlantic? \\n12 A. It seems like the right time frame. As \\n13 I said, that whole thing is foggy to me. \\n14 Q. Okay. When you graduated from high \\n15 school --well, let's back up. \\n16 The time period when you were working at \\n17 Metro-Atlantic was when? And you can use--\\n18 A. For sure for full time it was '64 \\n19 through '65. I believe there was also one summer \\n20 I worked there prior to that which might have been \\n21 '63 and then there was a period of time when I \\n22 worked for New England Container one summer, maybe \\n23 two. I don't remember. I had a bunch of jobs \\n24 during that time. \\n25 Q. Okay. Your full-time employment, how \\nVivian Dafoulas & Associates \\n(401) 885-0992 204 \\n99e5b696-09ac-4d72-826c-c2c83d416066 \\nCDALEDEP003599\\n\\npage: 204\", metadata={'page': 58.0, 'source': 'Documents\\\\554657.pdf'}),\n",
       " Document(page_content='1 there was a line in the sand, I don\\'t know. \\n2 Q. Let\\'s see if we can take a look at a \\n3 prior exhibit that we went over, your affidavit. \\n4 I\\'d like to ask you --I think that\\'s Exhibit 3. \\n5 MR. PIROZZOLO: What exhibit number? \\n6 MR. BRYAN: I think it\\'s Exhibit 3. \\n7 It\\'s the affidavit, Mr. Nadeau\\'s affidavit, and \\n8 Bates numbers E-000003.003225 through 227. \\n9 Looking-- I\\'d like you to look at the \\n10 first paragraph of that affidavit, Mr. Nadeau. \\n11 Do you see the sentence that begins: \"I \\n12 worked at both facilities as did some of the other \\n13 employees ... \" \\n14 A. Yes. \\n15 Q. \" ... who were interchangeable.\" Do you \\n16 see that? \\n17 A. Yes. \\n18 Q. What do you mean there by \\n19 \"interchangeable,\" the employees were \\n20 interchangeable? \\n21 A. The maintenance people would work --\\n22 would work both sites. If there was a maintenance \\n23 problem, the crew would go to either/or buildings. \\n24 There was a gentleman by the name of Walt \\n25 Murphy, who\\'s long gone to his reward, that had a \\nVivian Dafoulas & Associates \\n(401) 885-0992 206 \\n99e5b696·09ac·4d72·826c·c2c83d416066 \\nCDALEDEP003601\\n\\npage: 206', metadata={'page': 60.0, 'source': 'Documents\\\\554657.pdf'}),\n",
       " Document(page_content=\"1 MR. PIROZZOLO: I don't have any more \\n2 questions. \\n3 MR. BRYAN: I have a few, not a lot. \\n4 MS. BARONI: I have a few. \\n5 EXAMINATION \\n6 BY MS. BARONI: \\n7 Q. Mr. Nadeau, I'm Megan Baroni and I \\n8 represent New England Container. I believe my \\n9 colleague John Peloso was here during your last \\n10 deposition. \\n11 A. Okay. \\n12 Q. I am taking his place today so I just \\n13 have a few questions for you and I want to take \\n14 you back to Exhibit No. 4 which you were just \\n15 looking at with Mr. Pirozzolo --\\n16 A. Okay. \\n17 Q. --on the same page which for the record \\n18 is E-000002.000602. \\n19 A. Okay. \\n20 MS. BARONI: Mr. Pirozzolo asked you \\n21 questions about Lines 5 through 16 of that \\n22 transcript. I want to keep reading starting on \\n23 Line 17 of this transcript of your trial testimony \\n24 from the Emhart v. Home Insurance case, so I'm \\n25 just going to read your testimony aloud and if you \\nVivian Dafoulas & Associates \\n(401) 885-0992 199 \\n99e5b696-09ac-4d72-826c-c2c83d416066 \\nCDALEDEP003594\\n\\npage: 199\", metadata={'page': 53.0, 'source': 'Documents\\\\554657.pdf'}),\n",
       " Document(page_content=\"1 A. It's testimony I gave. \\n2 Q. And you testified truthfully in the \\n3 trial? \\n4 A. Always. \\n5 Q. Thank you. Okay. And at that time you \\n6 testified to the best of your recollection? \\n7 A. I did. \\n8 Q. And that was on September 14 or 15 in \\n9 the year 2006? \\n10 A. That I'm not sure of. \\n11 Q. You can look at the Bates page of the \\n12 transcript. \\n13 A. Okay. \\n14 Q. Take a look at the --the first page of \\n15 the set of documents that was given you. \\n16 A. \\n17 Q. \\n18 A. \\n19 Q. \\n20 that it \\n21 A. \\n22 Q. \\n23 A. \\n24 Q. \\n25 A. Okay. 6/12. \\nI'm sorry. \\nWhere am I looking? \\nLet me have that, if I may. Do you see \\nsays September 14, 2006? \\nYes. \\nAnd that was seven years ago --\\nYes. \\n--approximately? \\nYes. \\nVivian Dafoulas & Associates \\n(401) 885-0992 196 \\n99e5b696-09ac-4d72-826c-c2c83d416066 \\nCDALEDEP003591\\n\\npage: 196\", metadata={'page': 50.0, 'source': 'Documents\\\\554657.pdf'}),\n",
       " Document(page_content='1 I N D E X \\n2 WITNESS \\n3 JOSEPH NADEAU \\n4 \\n5 \\n6 \\n7 \\n8 \\n9 \\n10 \\n11 \\n12 \\n13 \\n14 \\n15 \\n16 \\n17 \\n18 \\n19 \\n20 \\n21 \\n22 \\n23 \\n24 \\n25 EXAMINATION BY MR. PIROZZOLO \\nEXAMINATION BY MS. BARONI \\nEXAMINATION BY MR. BRYAN \\nEXAMINATION BY MR. PIROZZOLO \\nVivian Dafoulas & Associates \\n(401) 885-0992 148 \\nPAGE \\n150 \\n199 \\n203 \\n216 \\n99e5b696-09ac-4d72-826c-c2c83d416066 \\nCDALEDEP003543\\n\\npage: 148', metadata={'page': 2.0, 'source': 'Documents\\\\554657.pdf'}),\n",
       " Document(page_content=\"1 Q. I'd like you to take a look at Page 44 \\n2 of the Home Insurance --I'm sorry, Page 14 --of \\n3 the Home Insurance transcript, Lines 14 through \\n4 18, and let me know when you're done looking at \\n5 those. \\n6 A. Done. \\n7 Q. Okay. As you sit here today, do you \\n8 recall what --do you recall that the barrels \\n9 had --some barrels that were brought in for \\n10 reconditioning had plastic liners? \\n11 A. Yes. \\n12 Q. Did all the barrels that you handled \\n13 have plastic liners? \\n14 A. No. \\n15 Q. How many approximately, was it the \\n16 majority of them, some of them? \\n17 A. I \\n18 MS. BARONI: Objection. \\n19 A. I didn't handle every one that came \\n20 in. \\n21 MR. PIROZZOLO: Are you talking about \\n22 when he worked for NECC --\\n23 \\n24 \\n25 MR. BRYAN: Yes. \\nMR. PIROZZOLO: or Metro-Atlantic? \\nMR. BRYAN: NECC. \\nVivian Dafoulas & Associates \\n(401) 885-0992 214 \\n99e5b696-09ac-4d72-826c-c2c83d416066 \\nCDALEDEP003609\\n\\npage: 214\", metadata={'page': 68.0, 'source': 'Documents\\\\554657.pdf'}),\n",
       " Document(page_content=\"1 MS. BARONI: Objection. \\n2 MR. BRYAN: Objection. \\n3 A. No. There was no sewer. It went into \\n4 the river or actually it went onto that piece of \\n5 real estate behind the building and then \\n6 eventually into the river. \\n7 Q. Can I ask you to look at the deposition \\n8 you gave --not the deposition, the trial \\n9 testimony you gave? \\n10 A. Okay. Where is it? \\n11 Q. Let me show you Exhibit 4 and ask you to \\n12 look at Page 28. \\n13 A. You need to give me a number. Is there \\n14 a number at the bottom of the page? \\n15 MR. PIROZZOLO: It should be at the \\n16 bottom. Let me see. \\n17 MR. BRYAN: Which date of his testimony? \\n18 THE WITNESS: Page 28? \\n19 MR. PIROZZOLO: Page 28. \\n20 MR. BRYAN: Is there a Bates number? \\n21 MR. PIROZZOLO: I don't have a Bates \\n22 number, if there is one. \\n23 MR. BRYAN: Which day of his testimony? \\n24 MR. HENNINGER: The bottom right-hand \\n25 corner of the page, Mr. Nadeau, if you could read \\nVivian Dafoulas & Associates \\n(401) 885-0992 193 \\n99e5b696-09ac-4d72-826c-c2c83d416066 \\nCDALEDEP003588\\n\\npage: 193\", metadata={'page': 47.0, 'source': 'Documents\\\\554657.pdf'}),\n",
       " Document(page_content=\"1 Q. So that was closer to the time that you \\n2 worked at Metro-Atlantic than it is now? \\n3 A. Yes. \\n4 Q. Is that right? \\n5 A. That's true. It's mathematically \\n6 correct. \\n7 Q. Okay. And you gave your best \\n8 recollection at that time \\n9 A. Yes, I did. \\n10 Q. --in court? \\n11 A. Yes, I did. \\n12 MR. PIROZZOLO: Thank you. If you give \\n13 me a moment, I may have no more questions. \\n14 MR. BRYAN: Objection. Move to strike. \\n15 Improper impeachment. \\n16 MR. PIROZZOLO: You move to strike? \\n17 MR. BRYAN: Just for the record, the \\n18 impeachment you --you are attempting to impeach \\n19 him with prior inconsistent statements. I'm \\n20 moving to strike because I think it was improper \\n21 impeachment. \\n22 Do you want me to explain? I can \\n23 explain if you want. I'm just making it for the \\n24 record. \\n25 MR. PIROZZOLO: Well, I'd like to know. \\nVivian Dafoulas & Associates \\n(401) 885-0992 197 \\n99e5b696-09ac-4d72-826c-c2c83d416066 \\nCDALEDEP003592\\n\\npage: 197\", metadata={'page': 51.0, 'source': 'Documents\\\\554657.pdf'})]"
      ]
     },
     "execution_count": 23,
     "metadata": {},
     "output_type": "execute_result"
    }
   ],
   "source": [
    "#Let's search the Pinecone vectorstore for our admission query\n",
    "vectorstore_from_docs.similarity_search(admissions_prompt, \n",
    "                                        k = 10, # We want at max, 10 relevant instances\n",
    "                                        namespace=\"doc2\")"
   ]
  },
  {
   "cell_type": "code",
   "execution_count": 24,
   "id": "7e9b66b0",
   "metadata": {},
   "outputs": [
    {
     "data": {
      "text/plain": [
       "[Document(page_content='1 deposition of December 17, 2002? \\n2 A. (Witness complying.) \\n3 Q. May I ask you to go to Page 34 and read \\n4 Lines 1 through 10 to yourself? \\n5 (Witness reading document.) \\n6 Q. Do you recall being asked --\\n7 A. Yes. \\n8 Q. --\"did you see the cutout?\" Do you \\n9 remember that? \\n10 A. Yes. \\n11 Q. And was the cutout something you said \\n12 was at the end of one of the walls? \\n13 A. Yes. \\n14 Q. And do you remember answering: \"You \\n15 know, I probably did. I just can\\'t remember. I \\n16 couldn\\'t say for a fact. It\\'s an assumption.\" Do \\n17 you remember giving that testimony? \\n18 A. Yes. \\n19 Q. So you recall testifying in 2002 that it \\n20 was an assumption that there was a cutout? \\n21 MR. BRYAN: Objection. Leading. \\n22 A. Yeah, I remember saying that but the \\n23 more I think about it now, I do remember in fact \\n24 \\n25 it went out. I saw it go out. \\nQ. It could have gone into a sewer? \\nVivian Dafoulas & Associates \\n(401) 885-0992 192 \\n99e5b696-09ac-4d72-826c-c2c83d416066 \\nCDALEDEP003587\\n\\npage: 192', metadata={'page': 46.0, 'source': 'Documents\\\\554657.pdf'}),\n",
       " Document(page_content='1 there was a line in the sand, I don\\'t know. \\n2 Q. Let\\'s see if we can take a look at a \\n3 prior exhibit that we went over, your affidavit. \\n4 I\\'d like to ask you --I think that\\'s Exhibit 3. \\n5 MR. PIROZZOLO: What exhibit number? \\n6 MR. BRYAN: I think it\\'s Exhibit 3. \\n7 It\\'s the affidavit, Mr. Nadeau\\'s affidavit, and \\n8 Bates numbers E-000003.003225 through 227. \\n9 Looking-- I\\'d like you to look at the \\n10 first paragraph of that affidavit, Mr. Nadeau. \\n11 Do you see the sentence that begins: \"I \\n12 worked at both facilities as did some of the other \\n13 employees ... \" \\n14 A. Yes. \\n15 Q. \" ... who were interchangeable.\" Do you \\n16 see that? \\n17 A. Yes. \\n18 Q. What do you mean there by \\n19 \"interchangeable,\" the employees were \\n20 interchangeable? \\n21 A. The maintenance people would work --\\n22 would work both sites. If there was a maintenance \\n23 problem, the crew would go to either/or buildings. \\n24 There was a gentleman by the name of Walt \\n25 Murphy, who\\'s long gone to his reward, that had a \\nVivian Dafoulas & Associates \\n(401) 885-0992 206 \\n99e5b696·09ac·4d72·826c·c2c83d416066 \\nCDALEDEP003601\\n\\npage: 206', metadata={'page': 60.0, 'source': 'Documents\\\\554657.pdf'}),\n",
       " Document(page_content=\"1 MR. BRYAN: I don't think what he said \\n2 was inconsistent. \\n3 MR. PIROZZOLO: You are not saying he \\n4 didn't say that? \\n5 THE WITNESS: I'm not saying I didn't \\n6 say it either. \\n7 MR. BRYAN: I'm not saying he didn't say \\n8 that. \\n9 MR. PIROZZOLO: Okay. \\n10 MR. BRYAN: I don't agree that what he \\n11 just said is inconsistent with what he is saying \\n12 here. \\n13 MR. PIROZZOLO: We can argue some day. \\n14 MR. BRYAN: Sure. \\n15 MR. PIROZZOLO: But I just wanted to \\n16 make sure it's clear, you are not questioning \\n17 whether this is a--\\n18 MR. BRYAN: No. \\n19 ME. PIR.OZZOLO: record of the trial \\n20 testimony? \\n21 MR. BRYAN: No, I'm not. \\n22 MR. PIROZZOLO: Thank you. Why don't we \\n23 stretch our legs a minute and let me talk with \\n24 Brian and we may be finished. \\n25 R E C E S S ) \\nVivian Dafoulas & Associates \\n(401) 885-0992 198 \\n99e5b696-09ac-4d72-826c-c2c83d416066 \\nCDALEDEP003593\\n\\npage: 198\", metadata={'page': 52.0, 'source': 'Documents\\\\554657.pdf'}),\n",
       " Document(page_content=\"1 MR. PIROZZOLO: I don't have any more \\n2 questions. \\n3 MR. BRYAN: I have a few, not a lot. \\n4 MS. BARONI: I have a few. \\n5 EXAMINATION \\n6 BY MS. BARONI: \\n7 Q. Mr. Nadeau, I'm Megan Baroni and I \\n8 represent New England Container. I believe my \\n9 colleague John Peloso was here during your last \\n10 deposition. \\n11 A. Okay. \\n12 Q. I am taking his place today so I just \\n13 have a few questions for you and I want to take \\n14 you back to Exhibit No. 4 which you were just \\n15 looking at with Mr. Pirozzolo --\\n16 A. Okay. \\n17 Q. --on the same page which for the record \\n18 is E-000002.000602. \\n19 A. Okay. \\n20 MS. BARONI: Mr. Pirozzolo asked you \\n21 questions about Lines 5 through 16 of that \\n22 transcript. I want to keep reading starting on \\n23 Line 17 of this transcript of your trial testimony \\n24 from the Emhart v. Home Insurance case, so I'm \\n25 just going to read your testimony aloud and if you \\nVivian Dafoulas & Associates \\n(401) 885-0992 199 \\n99e5b696-09ac-4d72-826c-c2c83d416066 \\nCDALEDEP003594\\n\\npage: 199\", metadata={'page': 53.0, 'source': 'Documents\\\\554657.pdf'}),\n",
       " Document(page_content=\"1 that number for the court reporter. \\n2 A. On Page 28 that number is \\n3 E-000002.000598. \\n4 MR. BRYAN: Thank you. \\n5 MR. PIROZZOLO: Let me see that, sir, \\n6 make sure we have the right one. That's not it. \\n7 MR. HENNINGER: Off the record for a \\n8 moment. This is different. \\n9 (Off-the-record discussion.) \\n10 BY MR. PIROZZOLO: \\n11 Q. Mr. Nadeau, I'd like to ask you to look \\n12 at Exhibit 4. The page with the Bates number \\n13 E-000002.000602 and I'll ask you to look at Lines \\n14 5 --\\n15 A. I haven't found it yet. \\n16 Q. --through 16. No, I have it in my \\n17 hand. \\n18 A. Okay. \\n19 Q. 5 through 16 on the page I just handed \\n20 to you. \\n21 (Witness reading document.) \\n22 Q. Have you read that to yourself? \\n23 A. Not yet. \\n24 MR. PIROZZOLO: Let me know when you're \\n25 finished reading that. \\nVivian Dafoulas & Associates \\n(401) 885-0992 194 \\n99e5b696-09ac-4d72-826c-c2c83d416066 \\nCDALEDEP003589\\n\\npage: 194\", metadata={'page': 48.0, 'source': 'Documents\\\\554657.pdf'}),\n",
       " Document(page_content='1 I N D E X \\n2 WITNESS \\n3 JOSEPH NADEAU \\n4 \\n5 \\n6 \\n7 \\n8 \\n9 \\n10 \\n11 \\n12 \\n13 \\n14 \\n15 \\n16 \\n17 \\n18 \\n19 \\n20 \\n21 \\n22 \\n23 \\n24 \\n25 EXAMINATION BY MR. PIROZZOLO \\nEXAMINATION BY MS. BARONI \\nEXAMINATION BY MR. BRYAN \\nEXAMINATION BY MR. PIROZZOLO \\nVivian Dafoulas & Associates \\n(401) 885-0992 148 \\nPAGE \\n150 \\n199 \\n203 \\n216 \\n99e5b696-09ac-4d72-826c-c2c83d416066 \\nCDALEDEP003543\\n\\npage: 148', metadata={'page': 2.0, 'source': 'Documents\\\\554657.pdf'}),\n",
       " Document(page_content=\"1 A. It's testimony I gave. \\n2 Q. And you testified truthfully in the \\n3 trial? \\n4 A. Always. \\n5 Q. Thank you. Okay. And at that time you \\n6 testified to the best of your recollection? \\n7 A. I did. \\n8 Q. And that was on September 14 or 15 in \\n9 the year 2006? \\n10 A. That I'm not sure of. \\n11 Q. You can look at the Bates page of the \\n12 transcript. \\n13 A. Okay. \\n14 Q. Take a look at the --the first page of \\n15 the set of documents that was given you. \\n16 A. \\n17 Q. \\n18 A. \\n19 Q. \\n20 that it \\n21 A. \\n22 Q. \\n23 A. \\n24 Q. \\n25 A. Okay. 6/12. \\nI'm sorry. \\nWhere am I looking? \\nLet me have that, if I may. Do you see \\nsays September 14, 2006? \\nYes. \\nAnd that was seven years ago --\\nYes. \\n--approximately? \\nYes. \\nVivian Dafoulas & Associates \\n(401) 885-0992 196 \\n99e5b696-09ac-4d72-826c-c2c83d416066 \\nCDALEDEP003591\\n\\npage: 196\", metadata={'page': 50.0, 'source': 'Documents\\\\554657.pdf'}),\n",
       " Document(page_content=\"1 I'm sorry, wrong page --Page 29 of that \\n2 testimony, Lines 11 through 24. I'd like to ask \\n3 you to read those lines to yourself and let me \\n4 know when you're done. Thank you. \\n5 (Witness reading document.) \\n6 A. Done. \\n7 Q. Okay. Does reading through Lines 11 \\n8 through 24 on Page 29 of your Home Insurance \\n9 deposition dated December 17th, 2002 help to \\n10 refresh your recollection as to when you worked at \\n11 Metro-Atlantic? \\n12 A. It seems like the right time frame. As \\n13 I said, that whole thing is foggy to me. \\n14 Q. Okay. When you graduated from high \\n15 school --well, let's back up. \\n16 The time period when you were working at \\n17 Metro-Atlantic was when? And you can use--\\n18 A. For sure for full time it was '64 \\n19 through '65. I believe there was also one summer \\n20 I worked there prior to that which might have been \\n21 '63 and then there was a period of time when I \\n22 worked for New England Container one summer, maybe \\n23 two. I don't remember. I had a bunch of jobs \\n24 during that time. \\n25 Q. Okay. Your full-time employment, how \\nVivian Dafoulas & Associates \\n(401) 885-0992 204 \\n99e5b696-09ac-4d72-826c-c2c83d416066 \\nCDALEDEP003599\\n\\npage: 204\", metadata={'page': 58.0, 'source': 'Documents\\\\554657.pdf'}),\n",
       " Document(page_content=\"1 Q. So that was closer to the time that you \\n2 worked at Metro-Atlantic than it is now? \\n3 A. Yes. \\n4 Q. Is that right? \\n5 A. That's true. It's mathematically \\n6 correct. \\n7 Q. Okay. And you gave your best \\n8 recollection at that time \\n9 A. Yes, I did. \\n10 Q. --in court? \\n11 A. Yes, I did. \\n12 MR. PIROZZOLO: Thank you. If you give \\n13 me a moment, I may have no more questions. \\n14 MR. BRYAN: Objection. Move to strike. \\n15 Improper impeachment. \\n16 MR. PIROZZOLO: You move to strike? \\n17 MR. BRYAN: Just for the record, the \\n18 impeachment you --you are attempting to impeach \\n19 him with prior inconsistent statements. I'm \\n20 moving to strike because I think it was improper \\n21 impeachment. \\n22 Do you want me to explain? I can \\n23 explain if you want. I'm just making it for the \\n24 record. \\n25 MR. PIROZZOLO: Well, I'd like to know. \\nVivian Dafoulas & Associates \\n(401) 885-0992 197 \\n99e5b696-09ac-4d72-826c-c2c83d416066 \\nCDALEDEP003592\\n\\npage: 197\", metadata={'page': 51.0, 'source': 'Documents\\\\554657.pdf'}),\n",
       " Document(page_content=\"219 \\n1 Q. And that was no part of your duties, \\n2 responsibilities or job? \\n3 \\n4 A. \\n5 \\n6 \\n7 \\n8 \\n9 \\n10 \\n11 \\n12 \\n13 \\n14 \\n15 \\n16 \\n17 \\n18 \\n19 \\n20 \\n21 \\n22 \\n23 \\n24 \\n25 MR. BRYAN: Objection. Leading. \\nNo. \\nMR. PIROZZOLO: No further questions. \\nMS. BARONI: I'm all set. \\nMR. BRYAN: No further questions. \\n(Adjourned at 2:25p.m.) \\nVivian Dafoulas & Associates \\n(401) 885-0992 \\n99e5b696-09ac-4d72-826c-c2c83d416066 \\nCDALEDEP003614\\n\\npage: 219\", metadata={'page': 73.0, 'source': 'Documents\\\\554657.pdf'})]"
      ]
     },
     "execution_count": 24,
     "metadata": {},
     "output_type": "execute_result"
    }
   ],
   "source": [
    "#Let's search the Pinecone vectorstore for our contradiction query\n",
    "vectorstore_from_docs.similarity_search(contradictions_prompt, \n",
    "                                        k = 10, # We want at max, 10 relevant instances\n",
    "                                        namespace=\"doc2\")"
   ]
  },
  {
   "cell_type": "markdown",
   "id": "d1e43220",
   "metadata": {},
   "source": [
    "## LangChain\n",
    "\n",
    "For getting the exact instances of admissions and contradictions, we'll use the **Retrieval Chain** from **LangChain**. It will analyze the retrieved data using **ChatGPT** and provide us with the relevant and accurate information."
   ]
  },
  {
   "cell_type": "code",
   "execution_count": 25,
   "id": "1a7a29b9",
   "metadata": {},
   "outputs": [],
   "source": [
    "from langchain_openai import ChatOpenAI\n",
    "from langchain.chains import RetrievalQA"
   ]
  },
  {
   "cell_type": "code",
   "execution_count": 26,
   "id": "e12368f8",
   "metadata": {},
   "outputs": [],
   "source": [
    "#Instantiate the LLM\n",
    "llm = ChatOpenAI(\n",
    "    openai_api_key=OPENAI_API_KEY,\n",
    "    model_name='gpt-3.5-turbo',\n",
    "    temperature=0.0\n",
    ")"
   ]
  },
  {
   "cell_type": "code",
   "execution_count": 27,
   "id": "d058ff17",
   "metadata": {},
   "outputs": [],
   "source": [
    "#Instantiate the retrieval chain\n",
    "qa_chain = RetrievalQA.from_chain_type(\n",
    "    llm=llm,\n",
    "    chain_type=\"stuff\",\n",
    "    retriever=vectorstore_from_docs.as_retriever(\n",
    "                                                search_type=\"mmr\", #Maximal Marginal Relevance\n",
    "        #Let's return maximum 8 relevant documents\n",
    "        #lambda_mult sets the diversity of results returned by MMR\n",
    "                                                search_kwargs={'k': 8, 'lambda_mult': 0.25}\n",
    "    )\n",
    ")"
   ]
  },
  {
   "cell_type": "markdown",
   "id": "dac25949",
   "metadata": {},
   "source": [
    "## Find Admissions\n",
    "\n",
    "Let's find all the instances of Admission."
   ]
  },
  {
   "cell_type": "code",
   "execution_count": 28,
   "id": "46d3ae3d",
   "metadata": {},
   "outputs": [],
   "source": [
    "#Let's get the instances of admissions\n",
    "admissions_results = qa_chain.invoke(admissions_prompt)"
   ]
  },
  {
   "cell_type": "code",
   "execution_count": 29,
   "id": "2474de29",
   "metadata": {},
   "outputs": [
    {
     "data": {
      "text/plain": [
       "dict_keys(['query', 'result'])"
      ]
     },
     "execution_count": 29,
     "metadata": {},
     "output_type": "execute_result"
    }
   ],
   "source": [
    "#Check the dictionay keys\n",
    "admissions_results.keys()"
   ]
  },
  {
   "cell_type": "code",
   "execution_count": 30,
   "id": "2db2b4d7",
   "metadata": {},
   "outputs": [
    {
     "data": {
      "text/plain": [
       "'{\\n    \"admissions\": [\\n        {\\n            \"topic\": \"Recollection of seeing the cutout\",\\n            \"content\": \"I saw it go out.\",\\n            \"reference\": \"line 24, page 192\",\\n            \"reason\": \"The witness initially mentioned it was an assumption, but later admitted to seeing the cutout.\"\\n        },\\n        {\\n            \"topic\": \"Observation of water changing color\",\\n            \"content\": \"Yes.\",\\n            \"reference\": \"line 15, page 170\",\\n            \"reason\": \"The witness confirmed observing the water change color while working at Metro-Atlantic.\"\\n        },\\n        {\\n            \"topic\": \"Observation of water changing color\",\\n            \"content\": \"Once I hit it with the hose, the water would change to the color of whatever was on the floor, it would wash to the drain and exit.\",\\n            \"reference\": \"line 21, page 170\",\\n            \"reason\": \"The witness explained the process of water changing color, indicating direct observation.\"\\n        },\\n        {\\n            \"topic\": \"Recollection of barrels having plastic liners\",\\n            \"content\": \"Yes.\",\\n            \"reference\": \"line 11, page 209\",\\n            \"reason\": \"The witness recalled that some barrels brought in for reconditioning had plastic liners.\"\\n        },\\n        {\\n            \"topic\": \"Handling of barrels with plastic liners\",\\n            \"content\": \"No.\",\\n            \"reference\": \"line 14, page 209\",\\n            \"reason\": \"The witness admitted that not all barrels handled had plastic liners.\"\\n        }\\n    ]\\n}'"
      ]
     },
     "execution_count": 30,
     "metadata": {},
     "output_type": "execute_result"
    }
   ],
   "source": [
    "#Check the required result\n",
    "admissions_results[\"result\"]"
   ]
  },
  {
   "cell_type": "code",
   "execution_count": 32,
   "id": "bd1bfad6",
   "metadata": {},
   "outputs": [
    {
     "name": "stdout",
     "output_type": "stream",
     "text": [
      "{'admissions': [{'topic': 'Recollection of seeing the cutout', 'content': 'I saw it go out.', 'reference': 'line 24, page 192', 'reason': 'The witness initially mentioned it was an assumption, but later admitted to seeing the cutout.'}, {'topic': 'Observation of water changing color', 'content': 'Yes.', 'reference': 'line 15, page 170', 'reason': 'The witness confirmed observing the water change color while working at Metro-Atlantic.'}, {'topic': 'Observation of water changing color', 'content': 'Once I hit it with the hose, the water would change to the color of whatever was on the floor, it would wash to the drain and exit.', 'reference': 'line 21, page 170', 'reason': 'The witness explained the process of water changing color, indicating direct observation.'}, {'topic': 'Recollection of barrels having plastic liners', 'content': 'Yes.', 'reference': 'line 11, page 209', 'reason': 'The witness recalled that some barrels brought in for reconditioning had plastic liners.'}, {'topic': 'Handling of barrels with plastic liners', 'content': 'No.', 'reference': 'line 14, page 209', 'reason': 'The witness admitted that not all barrels handled had plastic liners.'}]}\n"
     ]
    }
   ],
   "source": [
    "#Convert the resultant string object to Python dictionary\n",
    "import json\n",
    "try:\n",
    "    admissions_results_dict = json.loads(admissions_results[\"result\"])\n",
    "    print(admissions_results_dict)\n",
    "except json.JSONDecodeError as e:\n",
    "    print(\"Failed to parse JSON:\", e)"
   ]
  },
  {
   "cell_type": "code",
   "execution_count": 33,
   "id": "6036adde",
   "metadata": {},
   "outputs": [
    {
     "data": {
      "text/plain": [
       "[{'topic': 'Recollection of seeing the cutout',\n",
       "  'content': 'I saw it go out.',\n",
       "  'reference': 'line 24, page 192',\n",
       "  'reason': 'The witness initially mentioned it was an assumption, but later admitted to seeing the cutout.'},\n",
       " {'topic': 'Observation of water changing color',\n",
       "  'content': 'Yes.',\n",
       "  'reference': 'line 15, page 170',\n",
       "  'reason': 'The witness confirmed observing the water change color while working at Metro-Atlantic.'},\n",
       " {'topic': 'Observation of water changing color',\n",
       "  'content': 'Once I hit it with the hose, the water would change to the color of whatever was on the floor, it would wash to the drain and exit.',\n",
       "  'reference': 'line 21, page 170',\n",
       "  'reason': 'The witness explained the process of water changing color, indicating direct observation.'},\n",
       " {'topic': 'Recollection of barrels having plastic liners',\n",
       "  'content': 'Yes.',\n",
       "  'reference': 'line 11, page 209',\n",
       "  'reason': 'The witness recalled that some barrels brought in for reconditioning had plastic liners.'},\n",
       " {'topic': 'Handling of barrels with plastic liners',\n",
       "  'content': 'No.',\n",
       "  'reference': 'line 14, page 209',\n",
       "  'reason': 'The witness admitted that not all barrels handled had plastic liners.'}]"
      ]
     },
     "execution_count": 33,
     "metadata": {},
     "output_type": "execute_result"
    }
   ],
   "source": [
    "#Check the Python Dictionary\n",
    "admissions_results_dict[\"admissions\"]"
   ]
  },
  {
   "cell_type": "code",
   "execution_count": 34,
   "id": "752f83c5",
   "metadata": {},
   "outputs": [
    {
     "data": {
      "text/html": [
       "<div>\n",
       "<style scoped>\n",
       "    .dataframe tbody tr th:only-of-type {\n",
       "        vertical-align: middle;\n",
       "    }\n",
       "\n",
       "    .dataframe tbody tr th {\n",
       "        vertical-align: top;\n",
       "    }\n",
       "\n",
       "    .dataframe thead th {\n",
       "        text-align: right;\n",
       "    }\n",
       "</style>\n",
       "<table border=\"1\" class=\"dataframe\">\n",
       "  <thead>\n",
       "    <tr style=\"text-align: right;\">\n",
       "      <th></th>\n",
       "      <th>topic</th>\n",
       "      <th>content</th>\n",
       "      <th>reference</th>\n",
       "      <th>reason</th>\n",
       "    </tr>\n",
       "  </thead>\n",
       "  <tbody>\n",
       "    <tr>\n",
       "      <th>0</th>\n",
       "      <td>Recollection of seeing the cutout</td>\n",
       "      <td>I saw it go out.</td>\n",
       "      <td>line 24, page 192</td>\n",
       "      <td>The witness initially mentioned it was an assu...</td>\n",
       "    </tr>\n",
       "    <tr>\n",
       "      <th>1</th>\n",
       "      <td>Observation of water changing color</td>\n",
       "      <td>Yes.</td>\n",
       "      <td>line 15, page 170</td>\n",
       "      <td>The witness confirmed observing the water chan...</td>\n",
       "    </tr>\n",
       "    <tr>\n",
       "      <th>2</th>\n",
       "      <td>Observation of water changing color</td>\n",
       "      <td>Once I hit it with the hose, the water would c...</td>\n",
       "      <td>line 21, page 170</td>\n",
       "      <td>The witness explained the process of water cha...</td>\n",
       "    </tr>\n",
       "    <tr>\n",
       "      <th>3</th>\n",
       "      <td>Recollection of barrels having plastic liners</td>\n",
       "      <td>Yes.</td>\n",
       "      <td>line 11, page 209</td>\n",
       "      <td>The witness recalled that some barrels brought...</td>\n",
       "    </tr>\n",
       "    <tr>\n",
       "      <th>4</th>\n",
       "      <td>Handling of barrels with plastic liners</td>\n",
       "      <td>No.</td>\n",
       "      <td>line 14, page 209</td>\n",
       "      <td>The witness admitted that not all barrels hand...</td>\n",
       "    </tr>\n",
       "  </tbody>\n",
       "</table>\n",
       "</div>"
      ],
      "text/plain": [
       "                                           topic  \\\n",
       "0              Recollection of seeing the cutout   \n",
       "1            Observation of water changing color   \n",
       "2            Observation of water changing color   \n",
       "3  Recollection of barrels having plastic liners   \n",
       "4        Handling of barrels with plastic liners   \n",
       "\n",
       "                                             content          reference  \\\n",
       "0                                   I saw it go out.  line 24, page 192   \n",
       "1                                               Yes.  line 15, page 170   \n",
       "2  Once I hit it with the hose, the water would c...  line 21, page 170   \n",
       "3                                               Yes.  line 11, page 209   \n",
       "4                                                No.  line 14, page 209   \n",
       "\n",
       "                                              reason  \n",
       "0  The witness initially mentioned it was an assu...  \n",
       "1  The witness confirmed observing the water chan...  \n",
       "2  The witness explained the process of water cha...  \n",
       "3  The witness recalled that some barrels brought...  \n",
       "4  The witness admitted that not all barrels hand...  "
      ]
     },
     "execution_count": 34,
     "metadata": {},
     "output_type": "execute_result"
    }
   ],
   "source": [
    "#Let's convert the results into well structured DataFrames and save them.\n",
    "\n",
    "import pandas as pd\n",
    "\n",
    "admissions_df = pd.DataFrame(data=admissions_results_dict[\"admissions\"])\n",
    "admissions_df"
   ]
  },
  {
   "cell_type": "code",
   "execution_count": 35,
   "id": "2cb9c3e6",
   "metadata": {},
   "outputs": [],
   "source": [
    "#Save the DataFrame to CSV file\n",
    "admissions_df.to_csv(os.path.join(\"Admissions\",str(doc[0].metadata[\"source\"].split(\"\\\\\")[1].split(\".\")[0]) + \".csv\"))"
   ]
  },
  {
   "cell_type": "markdown",
   "id": "117b3979",
   "metadata": {},
   "source": [
    "## Find Contradictions\n",
    "\n",
    "Let's find all the instances of Contradictions."
   ]
  },
  {
   "cell_type": "code",
   "execution_count": 41,
   "id": "356f5995",
   "metadata": {},
   "outputs": [],
   "source": [
    "#Let's get the instances of contradiction\n",
    "contradictions_results = qa_chain.invoke(contradictions_prompt)"
   ]
  },
  {
   "cell_type": "code",
   "execution_count": 42,
   "id": "5acbc044",
   "metadata": {},
   "outputs": [
    {
     "data": {
      "text/plain": [
       "dict_keys(['query', 'result'])"
      ]
     },
     "execution_count": 42,
     "metadata": {},
     "output_type": "execute_result"
    }
   ],
   "source": [
    "#Check the dictionay keys\n",
    "contradictions_results.keys()"
   ]
  },
  {
   "cell_type": "code",
   "execution_count": 43,
   "id": "a4e0e208",
   "metadata": {},
   "outputs": [
    {
     "data": {
      "text/plain": [
       "'{\\n    \"contradictions\": [\\n        {\\n            \"topic\": \"Knowledge of Ownership\",\\n            \"assertion_content\": \"Did not know who owned what at that time.\",\\n            \"assertion_reference\": \"line 17, page 150\",\\n            \"contradiction_content\": \"Did not know where any boundaries of the land were as between ownership of one person or another.\",\\n            \"contradiction_reference\": \"line 20, page 150\",\\n            \"reason\": \"The witness initially stated he did not know who owned what, but later contradicted this by saying he did not know where the boundaries of the land were between different owners.\"\\n        },\\n        {\\n            \"topic\": \"Orientation to Map\",\\n            \"assertion_content\": \"Recognized features east and west of the facilities.\",\\n            \"assertion_reference\": \"line 19, page 218\",\\n            \"contradiction_content\": \"Mentioned never looking at the features.\",\\n            \"contradiction_reference\": \"line 23, page 218\",\\n            \"reason\": \"The witness first acknowledged recognizing features east and west of the facilities on the map, but later contradicted this by stating that he never looked at those features.\"\\n        }\\n    ]\\n}'"
      ]
     },
     "execution_count": 43,
     "metadata": {},
     "output_type": "execute_result"
    }
   ],
   "source": [
    "#Check the required result\n",
    "contradictions_results[\"result\"]"
   ]
  },
  {
   "cell_type": "code",
   "execution_count": 44,
   "id": "3b289040",
   "metadata": {},
   "outputs": [
    {
     "name": "stdout",
     "output_type": "stream",
     "text": [
      "{'contradictions': [{'topic': 'Knowledge of Ownership', 'assertion_content': 'Did not know who owned what at that time.', 'assertion_reference': 'line 17, page 150', 'contradiction_content': 'Did not know where any boundaries of the land were as between ownership of one person or another.', 'contradiction_reference': 'line 20, page 150', 'reason': 'The witness initially stated he did not know who owned what, but later contradicted this by saying he did not know where the boundaries of the land were between different owners.'}, {'topic': 'Orientation to Map', 'assertion_content': 'Recognized features east and west of the facilities.', 'assertion_reference': 'line 19, page 218', 'contradiction_content': 'Mentioned never looking at the features.', 'contradiction_reference': 'line 23, page 218', 'reason': 'The witness first acknowledged recognizing features east and west of the facilities on the map, but later contradicted this by stating that he never looked at those features.'}]}\n"
     ]
    }
   ],
   "source": [
    "#Convert the resultant string object to Python dictionary\n",
    "import json\n",
    "try:\n",
    "    contradictions_results_dict = json.loads(contradictions_results[\"result\"])\n",
    "    print(contradictions_results_dict)\n",
    "except json.JSONDecodeError as e:\n",
    "    print(\"Failed to parse JSON:\", e)"
   ]
  },
  {
   "cell_type": "code",
   "execution_count": 45,
   "id": "fb9ffb13",
   "metadata": {},
   "outputs": [
    {
     "data": {
      "text/html": [
       "<div>\n",
       "<style scoped>\n",
       "    .dataframe tbody tr th:only-of-type {\n",
       "        vertical-align: middle;\n",
       "    }\n",
       "\n",
       "    .dataframe tbody tr th {\n",
       "        vertical-align: top;\n",
       "    }\n",
       "\n",
       "    .dataframe thead th {\n",
       "        text-align: right;\n",
       "    }\n",
       "</style>\n",
       "<table border=\"1\" class=\"dataframe\">\n",
       "  <thead>\n",
       "    <tr style=\"text-align: right;\">\n",
       "      <th></th>\n",
       "      <th>topic</th>\n",
       "      <th>assertion_content</th>\n",
       "      <th>assertion_reference</th>\n",
       "      <th>contradiction_content</th>\n",
       "      <th>contradiction_reference</th>\n",
       "      <th>reason</th>\n",
       "    </tr>\n",
       "  </thead>\n",
       "  <tbody>\n",
       "    <tr>\n",
       "      <th>0</th>\n",
       "      <td>Knowledge of Ownership</td>\n",
       "      <td>Did not know who owned what at that time.</td>\n",
       "      <td>line 17, page 150</td>\n",
       "      <td>Did not know where any boundaries of the land ...</td>\n",
       "      <td>line 20, page 150</td>\n",
       "      <td>The witness initially stated he did not know w...</td>\n",
       "    </tr>\n",
       "    <tr>\n",
       "      <th>1</th>\n",
       "      <td>Orientation to Map</td>\n",
       "      <td>Recognized features east and west of the facil...</td>\n",
       "      <td>line 19, page 218</td>\n",
       "      <td>Mentioned never looking at the features.</td>\n",
       "      <td>line 23, page 218</td>\n",
       "      <td>The witness first acknowledged recognizing fea...</td>\n",
       "    </tr>\n",
       "  </tbody>\n",
       "</table>\n",
       "</div>"
      ],
      "text/plain": [
       "                    topic                                  assertion_content  \\\n",
       "0  Knowledge of Ownership          Did not know who owned what at that time.   \n",
       "1      Orientation to Map  Recognized features east and west of the facil...   \n",
       "\n",
       "  assertion_reference                              contradiction_content  \\\n",
       "0   line 17, page 150  Did not know where any boundaries of the land ...   \n",
       "1   line 19, page 218           Mentioned never looking at the features.   \n",
       "\n",
       "  contradiction_reference                                             reason  \n",
       "0       line 20, page 150  The witness initially stated he did not know w...  \n",
       "1       line 23, page 218  The witness first acknowledged recognizing fea...  "
      ]
     },
     "execution_count": 45,
     "metadata": {},
     "output_type": "execute_result"
    }
   ],
   "source": [
    "#Let's convert the results into well structured DataFrames and save them.\n",
    "\n",
    "contradictions_df = pd.DataFrame(data=contradictions_results_dict[\"contradictions\"])\n",
    "contradictions_df"
   ]
  },
  {
   "cell_type": "code",
   "execution_count": 46,
   "id": "ffd8e78e",
   "metadata": {},
   "outputs": [],
   "source": [
    "#Save the DataFrame to CSV file\n",
    "contradictions_df.to_csv(os.path.join(\"Contradictions\",str(doc[0].metadata[\"source\"].split(\"\\\\\")[1].split(\".\")[0]) + \".csv\"))"
   ]
  }
 ],
 "metadata": {
  "kernelspec": {
   "display_name": "Python 3 (ipykernel)",
   "language": "python",
   "name": "python3"
  },
  "language_info": {
   "codemirror_mode": {
    "name": "ipython",
    "version": 3
   },
   "file_extension": ".py",
   "mimetype": "text/x-python",
   "name": "python",
   "nbconvert_exporter": "python",
   "pygments_lexer": "ipython3",
   "version": "3.9.16"
  }
 },
 "nbformat": 4,
 "nbformat_minor": 5
}
